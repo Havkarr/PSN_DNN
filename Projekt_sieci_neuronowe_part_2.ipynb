{
  "nbformat": 4,
  "nbformat_minor": 0,
  "metadata": {
    "colab": {
      "provenance": [],
      "include_colab_link": true
    },
    "kernelspec": {
      "name": "python3",
      "display_name": "Python 3"
    },
    "language_info": {
      "name": "python"
    }
  },
  "cells": [
    {
      "cell_type": "markdown",
      "metadata": {
        "id": "view-in-github",
        "colab_type": "text"
      },
      "source": [
        "<a href=\"https://colab.research.google.com/github/Havkarr/PSN_DNN/blob/main/Projekt_sieci_neuronowe_part_2.ipynb\" target=\"_parent\"><img src=\"https://colab.research.google.com/assets/colab-badge.svg\" alt=\"Open In Colab\"/></a>"
      ]
    },
    {
      "cell_type": "markdown",
      "source": [
        "# Import bibliotek i danych do uczenia sieci"
      ],
      "metadata": {
        "id": "T9jUGnlcUnDr"
      }
    },
    {
      "cell_type": "code",
      "execution_count": 7,
      "metadata": {
        "id": "FQQAR8EOQKxy",
        "colab": {
          "base_uri": "https://localhost:8080/"
        },
        "outputId": "a960852a-e9c8-43c1-9c73-06a465527a42"
      },
      "outputs": [
        {
          "output_type": "stream",
          "name": "stdout",
          "text": [
            "                                                text  label\n",
            "0  i feel awful about it too because it s my job ...      0\n",
            "1                              im alone i feel awful      0\n",
            "2  ive probably mentioned this before but i reall...      1\n",
            "3           i was feeling a little low few days back      0\n",
            "4  i beleive that i am much more sensitive to oth...      2\n",
            "\n",
            "<class 'pandas.core.frame.DataFrame'>\n",
            "RangeIndex: 416809 entries, 0 to 416808\n",
            "Data columns (total 2 columns):\n",
            " #   Column  Non-Null Count   Dtype \n",
            "---  ------  --------------   ----- \n",
            " 0   text    416809 non-null  object\n",
            " 1   label   416809 non-null  int64 \n",
            "dtypes: int64(1), object(1)\n",
            "memory usage: 6.4+ MB\n",
            "None\n",
            "\n",
            "label\n",
            "1    141067\n",
            "0    121187\n",
            "3     57317\n",
            "4     47712\n",
            "2     34554\n",
            "5     14972\n",
            "Name: count, dtype: int64\n"
          ]
        }
      ],
      "source": [
        "import torch\n",
        "import numpy as np\n",
        "import pandas as pd\n",
        "import matplotlib.pyplot as plt\n",
        "\n",
        "data = pd.read_parquet('/content/twitter_data/train-00000-of-00001.parquet')\n",
        "\n",
        "# Preview the first few rows\n",
        "print(data.head())\n",
        "print()\n",
        "print(data.info())\n",
        "print()\n",
        "print(data['label'].value_counts())"
      ]
    },
    {
      "cell_type": "markdown",
      "source": [
        "# Stworzenie mapy emocji"
      ],
      "metadata": {
        "id": "t6xK2CD0V6qu"
      }
    },
    {
      "cell_type": "code",
      "source": [
        "emotion_map = {0: 'sadness', 1: 'joy', 2: 'love', 3: 'anger', 4: 'fear', 5: 'surprise'}\n",
        "data['emotion'] = data['label'].map(emotion_map)\n",
        "\n",
        "print(data.head())"
      ],
      "metadata": {
        "id": "yq9fyJG5S0A-",
        "colab": {
          "base_uri": "https://localhost:8080/"
        },
        "outputId": "87e50f68-d2fb-4c20-88c8-8fb2c9ddf800"
      },
      "execution_count": 9,
      "outputs": [
        {
          "output_type": "stream",
          "name": "stdout",
          "text": [
            "                                                text  label  emotion\n",
            "0  i feel awful about it too because it s my job ...      0  sadness\n",
            "1                              im alone i feel awful      0  sadness\n",
            "2  ive probably mentioned this before but i reall...      1      joy\n",
            "3           i was feeling a little low few days back      0  sadness\n",
            "4  i beleive that i am much more sensitive to oth...      2     love\n"
          ]
        }
      ]
    },
    {
      "cell_type": "markdown",
      "source": [
        "#Podział danych na zbiory"
      ],
      "metadata": {
        "id": "qJkLbwbxU-hU"
      }
    },
    {
      "cell_type": "code",
      "source": [
        "from sklearn.model_selection import train_test_split\n",
        "from sklearn.feature_extraction.text import TfidfVectorizer\n",
        "\n",
        "X_train, X_test, y_train, y_test = train_test_split(data['text'], data['label'], test_size=0.2, random_state=42)"
      ],
      "metadata": {
        "id": "bAj9Ts0fV5eC"
      },
      "execution_count": 11,
      "outputs": []
    },
    {
      "cell_type": "code",
      "source": [],
      "metadata": {
        "id": "c3IXde2lY3rg"
      },
      "execution_count": null,
      "outputs": []
    }
  ]
}